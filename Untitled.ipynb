{
 "cells": [
  {
   "cell_type": "code",
   "execution_count": 2,
   "id": "b3c6d678-d3db-4cf3-a147-4092ae4b53ce",
   "metadata": {},
   "outputs": [],
   "source": [
    "!git config --global user.name master0-jang\n",
    "!git config --global user.email jd231697@gmail.com"
   ]
  },
  {
   "cell_type": "code",
   "execution_count": 3,
   "id": "3b4a189d-5402-4c7d-8be7-5555aeb8455b",
   "metadata": {},
   "outputs": [
    {
     "name": "stdout",
     "output_type": "stream",
     "text": [
      "master0-jang\n",
      "jd231697@gmail.com\n"
     ]
    }
   ],
   "source": [
    "!git config --global user.name\n",
    "!git config --global user.email"
   ]
  },
  {
   "cell_type": "code",
   "execution_count": 4,
   "id": "2e2b1966-189d-4712-ac39-56816755cc75",
   "metadata": {},
   "outputs": [
    {
     "name": "stdout",
     "output_type": "stream",
     "text": [
      "diff.astextplain.textconv=astextplain\n",
      "filter.lfs.clean=git-lfs clean -- %f\n",
      "filter.lfs.smudge=git-lfs smudge -- %f\n",
      "filter.lfs.process=git-lfs filter-process\n",
      "filter.lfs.required=true\n",
      "http.sslbackend=openssl\n",
      "http.sslcainfo=C:/Program Files/Git/mingw64/etc/ssl/certs/ca-bundle.crt\n",
      "core.autocrlf=true\n",
      "core.fscache=true\n",
      "core.symlinks=false\n",
      "pull.rebase=false\n",
      "credential.helper=manager\n",
      "credential.https://dev.azure.com.usehttppath=true\n",
      "init.defaultbranch=master\n",
      "user.name=master0-jang\n",
      "user.email=jd231697@gmail.com\n"
     ]
    }
   ],
   "source": [
    "# 전체 사용자 정보 확인\n",
    "!git config --list"
   ]
  },
  {
   "cell_type": "code",
   "execution_count": 6,
   "id": "ec9d6658-195b-45ae-9c86-0489665ca0fd",
   "metadata": {},
   "outputs": [
    {
     "name": "stdout",
     "output_type": "stream",
     "text": [
      " C 드라이브의 볼륨에는 이름이 없습니다.\n",
      " 볼륨 일련 번호: 74B2-7A86\n",
      "\n",
      " C:\\Users\\jd231\\OneDrive\\바탕 화면\\데이터 분석 및 시각화 활용 기초 강의\\project 디렉터리\n",
      "\n",
      "2024-11-11  오후 08:25    <DIR>          .\n",
      "2024-11-09  오후 02:33    <DIR>          ..\n",
      "2024-11-11  오후 08:20    <DIR>          .ipynb_checkpoints\n",
      "2024-10-30  오후 03:43           428,749 2024학년도 3학년 10월 전국연합학력평가 결과.xlsx\n",
      "2024-04-17  오후 06:07           384,487 2024학년도 3학년 3월 전국연합학력평가 결과.xlsx\n",
      "2024-05-21  오후 01:55           430,158 2024학년도 3학년 5월 전국연합학력평가 결과.xlsx\n",
      "2024-07-25  오후 01:50           427,079 2024학년도 3학년 7월 전국연합학력평가 결과.xlsx\n",
      "2024-07-02  오후 01:16           446,593 2025학년도 3학년 6월 모의평가 결과.xlsx\n",
      "2024-10-02  오후 03:38           421,272 2025학년도 3학년 9월 모의평가 결과.xlsx\n",
      "2024-11-11  오후 04:59            10,998 9월 모의고사.csv\n",
      "2024-11-11  오후 08:25    <DIR>          my-project\n",
      "2024-11-11  오후 05:27           246,951 PROJECT.ipynb\n",
      "2024-11-11  오후 08:25             4,453 Untitled.ipynb\n",
      "2024-11-11  오후 05:27           685,409 데이터 분석 및 시각화 활용 기초 강의_project_장인영.pdf\n",
      "2024-11-11  오후 05:26           765,056 데이터 분석 및 시각화 활용 기초 강의_project_장인영.pptx\n",
      "              11개 파일           4,251,205 바이트\n",
      "               4개 디렉터리  815,441,547,264 바이트 남음\n"
     ]
    }
   ],
   "source": [
    "# 파일 및 폴더 확인\n",
    "!dir\n",
    "\n",
    "# 프로젝트 폴더 생성 및 폴더로 이동\n",
    "!mkdir 포트폴리오\n",
    "!cd 포트폴리오"
   ]
  },
  {
   "cell_type": "code",
   "execution_count": null,
   "id": "80899dc5-a314-4ed4-bab3-99af0fd45c6f",
   "metadata": {},
   "outputs": [],
   "source": []
  }
 ],
 "metadata": {
  "kernelspec": {
   "display_name": "Python 3 (ipykernel)",
   "language": "python",
   "name": "python3"
  },
  "language_info": {
   "codemirror_mode": {
    "name": "ipython",
    "version": 3
   },
   "file_extension": ".py",
   "mimetype": "text/x-python",
   "name": "python",
   "nbconvert_exporter": "python",
   "pygments_lexer": "ipython3",
   "version": "3.9.13"
  }
 },
 "nbformat": 4,
 "nbformat_minor": 5
}
